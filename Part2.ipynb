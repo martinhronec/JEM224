{
 "cells": [
  {
   "cell_type": "markdown",
   "metadata": {
    "Collapsed": "false",
    "slideshow": {
     "slide_type": "slide"
    }
   },
   "source": [
    "# Version control with Git (JEM224) - Part 2\n",
    "\n",
    "by **Martin Hronec**\n",
    "\n",
    "Sep 7-8\n",
    "\n",
    "![why version control](./pictures/GIT-LOGO.png)\n"
   ]
  },
  {
   "cell_type": "markdown",
   "metadata": {
    "Collapsed": "false"
   },
   "source": [
    "## Branches\n",
    "\n",
    "* branching means:\n",
    "    * diverging from the main line of development\n",
    "        * and continue to do work without affecting the main (stable/production) development line\n",
    "    * developing multiple things in parallel\n",
    "\n",
    "* in other VCS tools, this requires a lot of resources\n",
    "    * e.g. to create a newcopy of your source code directory   \n",
    "* not in Git! - very lightweight, killer feature\n",
    "\n",
    "* when you commit in Git, Git stores a commit object that contains a pointer to the snapshot of the content you staged:\n",
    "    * the author and message metadata\n",
    "    * and zero or more pointers to the commit or commits that were the direct parents of this commit:\n",
    "        * zero parents for the first commit\n",
    "        * one parent for a normal commit\n",
    "        * and multiple parents for a commit that results from a merge of two or more branches\n",
    "        \n",
    "* you can view all commits across branches using `git log --branches=*`        "
   ]
  },
  {
   "cell_type": "markdown",
   "metadata": {
    "Collapsed": "false"
   },
   "source": [
    "### Creating a new branch\n",
    "\n",
    "* a branch in Git is simply a lightweight movable pointer to one of the commits\n",
    "* the default branch name in Git is *master* or *main* [... because you don't like slavery or are delusional...](https://www.bbc.com/news/technology-53050955)\n",
    "    * as you initially make commits, you're given a master branch that points to the last commit you made\n",
    "    and every time you commit, it moves forward automatically\n",
    "* **what happens when you create a new branch?** \n",
    "    * it creates a new pointer for you to move around\n",
    "    \n",
    "* `git branch <branch_name>` to create a new branch\n",
    "* look at the following 2 graphs to see that indeed, new branch is just another pointer pointing to the last commit"
   ]
  },
  {
   "cell_type": "markdown",
   "metadata": {},
   "source": [
    "![caption](./pictures/before_branch.png)"
   ]
  },
  {
   "cell_type": "markdown",
   "metadata": {
    "Collapsed": "false"
   },
   "source": [
    "* added a new branch called \"brave\" with `git branch brave`\n",
    "![caption](./pictures/branch_as_pointer.png)\n",
    "* HEAD is still pointing to the master\n",
    "    * if we would add another commit now, we would be contributing to the master"
   ]
  },
  {
   "cell_type": "markdown",
   "metadata": {
    "Collapsed": "false"
   },
   "source": [
    "### HEAD\n",
    "\n",
    "* how does Git know what branch you're currently on?\n",
    "    * it keeps a special pointer called *HEAD*\n",
    "        * a pointer to the local branch you're currently on\n",
    "        * you can see it in the file .git/HEAD\n",
    "        \n",
    "* for now we are still on the \"master\" branch, we did not yet switched to the \"new branch\"\n",
    "\n",
    "* to switch to another branch, you can use `git checkout <new_branch>`\n",
    "    * `git status` will confirm that you are indeed looking at it\n",
    "    * `git log` will show *HEAD* pointing to the \"new branch\"\n",
    "* if you change a file, stage it and commit it, your project history will diverge"
   ]
  },
  {
   "cell_type": "markdown",
   "metadata": {
    "Collapsed": "false"
   },
   "source": [
    "### Basic branching and merging\n",
    "\n",
    "* you've decided that you're going to work on issue #12\n",
    "    * issues are generally the way code development is organized and managed, see [github manual](https://guides.github.com/features/issues/)\n",
    "\n",
    "* `git checkout -b iss12`\n",
    "\n",
    "* (look at the GitGraph)\n",
    "\n",
    "* now on the new branch\n",
    "    * create some new file or make some changes\n",
    "    * commit it and look at the graph again\n",
    "        * your project history has diverged\n",
    "\n",
    "(graph after working on new branch)\n",
    "\n",
    "* a branch in Git is actually a simple file that contains the 40 character SHA-1 checksum of the commit it points to\n",
    "    * => branches are cheap to create and destroy\n",
    "    * creating a new branch is as quick and simple as writing 41 bytes to a file (40 characters and a newline)."
   ]
  },
  {
   "cell_type": "markdown",
   "metadata": {
    "Collapsed": "false"
   },
   "source": [
    "* now imagine you need to make a *hotfix*, to do this, you need to move away from the iss53 back to the main line of the development\n",
    "* to switch from the current branch to another, you need to commit your changes\n",
    "    * or stash them, which we will be talking about later\n",
    "    \n",
    "* you switch back to *master*\n",
    "    * you create a new branch named \"hotfix\"\n",
    "    * you hotfix what you need\n",
    "    * then you need to merge it back to the master (after some tests)\n",
    "\n",
    "(look at GitGraph after hotfixing)\n",
    "    "
   ]
  },
  {
   "cell_type": "markdown",
   "metadata": {
    "Collapsed": "false"
   },
   "source": [
    "## Merging - fastforward\n",
    "* branching is usefull only if we can combine things back in the end\n",
    "* `git merge <branch_to_be_merged_into_where_HEAD_is_pointing>`\n",
    "* because the commit pointed to by the branch you merged in was directly upstream of the commit you’re on, Git moves the pointer forward\n",
    "    * when you try to merge one commit with a commit that can be reached by following the first commit’s history, Git simplifies things by moving the pointer forward because there is no divergent work to merge together—this is called a **fast-forward.**\n",
    "    * notice that Git itself tells us this was a fast-forwart type of the merge\n",
    "    * Git does the best job to automatically merge things, if not possible you need to do it manually or use `git mergetool`\n",
    "\n",
    "(GitGrapgh after merging the hotfix)\n",
    "\n",
    "* `git branch -d hotfix`"
   ]
  },
  {
   "cell_type": "markdown",
   "metadata": {
    "Collapsed": "false"
   },
   "source": [
    "### Merging - recursive (three-way merge)\n",
    "\n",
    "* your development history has diverged from some older point\n",
    "* becausee the commit on the branch you’re on isn’t a direct ancestor of the branch you’re merging in, Git has to do some work\n",
    "    * in this case, Git does a simple **three-way merge**, using the two snapshots pointed to by the branch tips and the common ancestor of the two.\n",
    "\n",
    "* `git checkout master` & `git merge iss12`\n",
    "\n",
    "*  TODO: chart (three snapshots used in a typical merge)\n",
    "\n",
    "* instead of just moving the branch pointer forward, Gitcreates a new snapshot that results from this three-way merge and automatically creates a new commit that points to it \n",
    "    * this is referred to as a merge commit\n",
    "        * it is special by the fact that it has more than one parent"
   ]
  },
  {
   "cell_type": "markdown",
   "metadata": {
    "Collapsed": "false"
   },
   "source": [
    "* `git add <changed file>` \n",
    "* `git merge --continue` \n",
    "* if something goes wrong, e.g. there is a conflict, use `git merge --abort`\n",
    "* look at the git log to see the branched development"
   ]
  },
  {
   "cell_type": "markdown",
   "metadata": {
    "Collapsed": "false"
   },
   "source": [
    "### Merge conflicts - diverged paths\n",
    "\n",
    "* if you changed the same part of the same file differently in the two branches you-re merging together, Git won't be able to merge them cleanly\n",
    "\n",
    "* this is how you repository looks like ![](./pictures/pre_conflict_diverged.png)"
   ]
  },
  {
   "cell_type": "markdown",
   "metadata": {
    "Collapsed": "false"
   },
   "source": [
    "### Merge conflicts - resolving\n",
    "* if we run `git merge branch` when there is a conflict we will get (something like) following message\n",
    "\n",
    "    * `CONFLICT (content): Merge conflict in index.html` \n",
    "      `Automatic merge failed; fix conflicts and then commit the result.`\n",
    "\n",
    "* Git hasn’t automatically created a new merge commit\n",
    "    * it has paused the process while you resolve the conflict.\n",
    "    * `git status` to see which files are unmerged at any point after a merge conflict\n",
    "\n",
    "\n",
    "* open the conflicting file\n",
    "    * `<<<<<<<< HEAD:`\n",
    "    \n",
    "    `......one version`\n",
    "    \n",
    "    `=========`\n",
    "    \n",
    "    `...... second version`\n",
    "    \n",
    "    `>>>>>>>>> <conflicting branch name>`\n",
    "\n",
    "* resolve each of the conflicted section in the conflicted file\n",
    "* run `git add` on each file\n",
    "    * staging the file marks it as resolved in Git\n",
    "\n",
    "* run `git commit` to finalize the merge commit\n",
    "\n",
    "* see the resulting graph on the next slide"
   ]
  },
  {
   "cell_type": "markdown",
   "metadata": {},
   "source": [
    "### Merged - conflict resolved \n",
    "![.](./pictures/conflict_resolved.png)"
   ]
  },
  {
   "cell_type": "markdown",
   "metadata": {
    "Collapsed": "false"
   },
   "source": [
    "### Mergetools and Jupyterlab-git\n",
    "* if you want to use a graphical tool to resolve these issues, you can run `git mergetool`\n",
    "    * mergetool needs \n",
    "\n",
    "* NOTE: you should now understand why merging and jupyter notebooks (represented as JSON) in the terminal is painfull\n",
    "    * see [JupyterLag-git](https://github.com/jupyterlab/jupyterlab-git) for version control in Jupyter Notebooks\n",
    "    * or [nbdime](https://github.com/jupyter/nbdime) for simple notebook diffing"
   ]
  },
  {
   "cell_type": "markdown",
   "metadata": {
    "Collapsed": "false"
   },
   "source": [
    "### Branching management\n",
    "\n",
    "* Another useful option to figure out what state your branches are in is to filter this list to branches that you have or have not yet merged into the branch you’re currently on.\n",
    "    * `git branch --merged` & `git branch --no-merged`\n",
    "    * branches on this list without the * in front of them are generally fine to delete with `git branch -d`\n",
    "* if you have a branch with contents that are not merged in another branch yet, standard `git branch -d` will fail (error: The branch '<branch_name>' is not an ancestor of your current HEAD.\n"
   ]
  },
  {
   "cell_type": "markdown",
   "metadata": {},
   "source": [
    "### `git stash`\n",
    "\n",
    "* when you want to switch branches to work on something else, but your working directory state is too ugly to commit it\n",
    "* `git stash` takes the dirty state of your working directory and staging index and saves it on a \"stack\" of unfinished changes\n",
    "* you can reaplly these at any time (even on a different branch)\n",
    "* `git stash list` to see the stored stashes\n",
    "* `git stash apply` to apply the changes from the stash \"store\"\n",
    "    * if you don't specify stash, the most recent one will try to be used\n",
    "    * specify the stash in the following way `git stash apply stash@{0}\n",
    "* if there is problem applying stash (e.g. some different conflicting changes), Git will give you a merge conflict\n",
    "* you can alse create a branch from a stash using `git stash branch <new_branch>\n",
    "* after applying the stash, it remains in your stack\n",
    "    * to remove it, run `git stash drop stash@{0}\n",
    "* if you don't want to stash things, but get rid of them, you can use `git clean`\n",
    "    * ideally with `-n` argument first to see what's going to be cleanede"
   ]
  },
  {
   "cell_type": "markdown",
   "metadata": {
    "Collapsed": "false"
   },
   "source": [
    "## Working with remote branches\n",
    "\n",
    "* references to the state of branches on your remote repositories\n",
    "* they're local branches that you can't move\n",
    "    * they are moved automatidcally whenever you do any network communication\n",
    "* they act as bookmarks to remind you where the brances on your remote repositores were the last time you connected to them\n",
    "* they have the form (remote)/(branch)\n",
    "\n",
    "* when you clone from the remote repository, Git automatically:\n",
    "    * names it origin\n",
    "    * pulls down all its data \n",
    "    * creates a pointer to where its master branch is\n",
    "    * names it origin/master locally\n",
    "    "
   ]
  },
  {
   "cell_type": "markdown",
   "metadata": {
    "Collapsed": "false"
   },
   "source": [
    "### Pushing\n",
    "\n",
    "* if you want to share a branch, you need to push it up to a remote (where you have a write access)\n",
    "    * local branches aren't automatically synchronized to the remotes \n",
    "    * you have to explicitly push the branches you want to share\n",
    "* you can use private branches to do work you don't want to share\n",
    "* `git push <remote> <branch>` \n",
    "    * this is a shortcut for:\n",
    "        * Git automatically expands the branch name out to refs/heads/<branchname>:refs/heads/<branchname>\n",
    "    * alternatively `git push origin <branchname>:<branchname>`\n",
    "        * this can be used to name remote branch differently than the local one\n",
    "    \n",
    "* when you do a `git fetch`, you don't automatically have local, editable copies of remote branches\n",
    "    * you have only a pointer (which you can't modify) \n",
    "* to merge remote stuff into your current working branch, you can run `git merge origin/<branchname>`\n",
    " "
   ]
  },
  {
   "cell_type": "markdown",
   "metadata": {
    "Collapsed": "false"
   },
   "source": [
    "### Tracking branches\n",
    "\n",
    "* to see the full list of remote references, use `git remote show origin`\n",
    "* `git fetch --all` updates your remote-tracking branches\n",
    "* `git branch -vv` lists local branches (with some info) and what each branch is tracking\n",
    "\n",
    "* if there is a remote branch that you want to track, you can create a local branch and base it off the remote one with\n",
    "    * `git checkout -b <local_branch_name> origin/<remote_branch_name>`\n",
    "\n",
    "* checking out a local branch from a rermote branch automatically creates what is called a *tracking branch*\n",
    "    * a local branch with a direct relationship to a remote branch\n",
    "* if you're on a tracking branch and type `git push`, Git automaticallly knows which server and branch to push to\n",
    "    * same holds for `git pull`\n",
    "    \n",
    "* when you clone a repository, it generally automatically creates a master branch that tracks origin/master\n",
    "    * that's why `git push` and `git pull` work out of the box with no other arguments\n",
    "\n",
    "\n",
    "* to delete a remote branch `git push <remote_name> --delete <remote_branch_name>`\n"
   ]
  },
  {
   "cell_type": "markdown",
   "metadata": {},
   "source": [
    "### Pulling\n",
    "\n",
    "* `git fetch` fetches all the changes on the server that you don't have yet, it will not modify your working directory at all\n",
    "* `git pull` is basically `git fetch` followed immediately with `git merge`"
   ]
  },
  {
   "cell_type": "markdown",
   "metadata": {
    "Collapsed": "false"
   },
   "source": [
    "## Branching Workflows\n",
    "\n",
    "* merging from one branch into another multiple times over a long period is generally easy to do\n",
    "* => you can have several branches that are always open and that you use for different stages of your development cycle\n",
    "    * you can merge regularly from some of them into others\n",
    "* e.g. only entirely stable code in the master branch \n",
    "    * paralel branch named \"develop\" for development and testing, which is merged into\n",
    "    * branch \"develop\" pulls in topics from so colled topic branches (short-lived branches) \n",
    "* in reality, we are talking about pointers moving up the line of commits we're making\n",
    "    * the stable branches are further down the line in your commity hisotry\n",
    "    * the bleeding-edge branches are farther up the history\n",
    "        * think about them as work silos, where sets of commits graduate to a more stable silo when they're fully tested\n",
    "\n",
    "* now that we know the basics, the building blocks, let's discuss the collaboration workflows\n",
    "    * read [this](https://www.atlassian.com/git/tutorials/comparing-workflows)"
   ]
  },
  {
   "cell_type": "code",
   "execution_count": null,
   "metadata": {},
   "outputs": [],
   "source": []
  }
 ],
 "metadata": {
  "kernelspec": {
   "display_name": "Python 3",
   "language": "python",
   "name": "python3"
  },
  "language_info": {
   "codemirror_mode": {
    "name": "ipython",
    "version": 3
   },
   "file_extension": ".py",
   "mimetype": "text/x-python",
   "name": "python",
   "nbconvert_exporter": "python",
   "pygments_lexer": "ipython3",
   "version": "3.7.3"
  },
  "toc-autonumbering": false,
  "toc-showcode": false,
  "toc-showmarkdowntxt": false,
  "toc-showtags": false
 },
 "nbformat": 4,
 "nbformat_minor": 4
}
